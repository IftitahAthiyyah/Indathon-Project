{
  "cells": [
    {
      "cell_type": "markdown",
      "metadata": {
        "id": "dmIcNDCGhwUV"
      },
      "source": [
        "### Stock Market Prediction And Forecasting Using Stacked LSTM"
      ]
    },
    {
      "cell_type": "code",
      "execution_count": null,
      "metadata": {
        "id": "7945LlgchwUV"
      },
      "outputs": [],
      "source": [
        "### Keras and Tensorflow >2.0"
      ]
    },
    {
      "cell_type": "code",
      "execution_count": 521,
      "metadata": {
        "id": "_cook-T7hwUW"
      },
      "outputs": [],
      "source": [
        "### Data Collection\n",
        "import pandas_datareader as pdr\n",
        "key=\"\""
      ]
    },
    {
      "cell_type": "code",
      "execution_count": 522,
      "metadata": {
        "id": "b2pfrR6WhwUW"
      },
      "outputs": [],
      "source": [
        "import pandas as pd"
      ]
    },
    {
      "cell_type": "code",
      "execution_count": 523,
      "metadata": {
        "colab": {
          "base_uri": "https://localhost:8080/"
        },
        "collapsed": true,
        "id": "-qNkyc9LhwUW",
        "outputId": "563c5c3c-165e-42c8-cf9d-e355095060a7"
      },
      "outputs": [
        {
          "output_type": "stream",
          "name": "stdout",
          "text": [
            "           date  jumlah_penumpang\n",
            "64   2020-05-01           2282000\n",
            "65   2020-06-01           4228000\n",
            "66   2020-07-01           5515000\n",
            "67   2020-08-01           5442000\n",
            "68   2020-09-01           4782000\n",
            "69   2020-10-01           4265000\n",
            "70   2020-11-01           5414000\n",
            "71   2020-12-01           5302000\n",
            "72   2021-01-01           9964000\n",
            "73   2021-02-01           9536000\n",
            "74   2021-03-01          11758000\n",
            "75   2021-04-01          11844000\n",
            "76   2021-05-01          10982000\n",
            "77   2021-06-01          11234000\n",
            "78   2021-07-01           6648000\n",
            "79   2021-08-01           6585000\n",
            "80   2021-09-01           8655000\n",
            "81   2021-10-01          10801000\n",
            "82   2021-11-01          12603000\n",
            "83   2021-12-01          13202000\n",
            "84   2022-01-01          14323000\n",
            "85   2022-02-01          10550000\n",
            "86   2022-03-01          14430000\n",
            "87   2022-04-01          13756000\n",
            "88   2022-05-01          13624000\n",
            "89   2022-06-01          16689000\n",
            "90   2022-07-01          16774000\n",
            "91   2022-08-01          17870000\n",
            "92   2022-09-01          18900000\n",
            "93   2022-10-01          18476000\n",
            "94   2022-11-01          18469000\n",
            "95   2022-12-01          17558000\n",
            "96   2023-01-01          20001303\n",
            "97   2023-02-01          18710281\n",
            "98   2023-03-01          21046680\n",
            "99   2023-04-01          16686971\n",
            "100  2023-05-01          22845144\n",
            "101  2023-06-01          22264954\n",
            "102  2023-07-01          24428349\n",
            "103  2023-08-01          25693459\n",
            "104  2023-09-01          26076085\n",
            "105  2023-10-01          29146729\n",
            "106  2023-11-01          29062581\n",
            "107  2023-12-01          28957580\n"
          ]
        }
      ],
      "source": [
        "df_train = pd.read_csv(\"/content/training_jumlah_penumpang_tj.csv\", sep=',')\n",
        "df_train = df_train[['date','jumlah_penumpang']]\n",
        "df_train = df_train[64:]\n",
        "print(df_train)"
      ]
    },
    {
      "cell_type": "code",
      "execution_count": 524,
      "metadata": {
        "id": "QXa384RehwUX"
      },
      "outputs": [],
      "source": [
        "df1=df_train.reset_index()['jumlah_penumpang']"
      ]
    },
    {
      "cell_type": "code",
      "execution_count": 525,
      "metadata": {
        "colab": {
          "base_uri": "https://localhost:8080/",
          "height": 1000
        },
        "collapsed": true,
        "id": "N1YsOeKehwUX",
        "outputId": "86a97ee7-b979-4146-eaba-371236309cc4"
      },
      "outputs": [
        {
          "output_type": "execute_result",
          "data": {
            "text/plain": [
              "0      2282000\n",
              "1      4228000\n",
              "2      5515000\n",
              "3      5442000\n",
              "4      4782000\n",
              "5      4265000\n",
              "6      5414000\n",
              "7      5302000\n",
              "8      9964000\n",
              "9      9536000\n",
              "10    11758000\n",
              "11    11844000\n",
              "12    10982000\n",
              "13    11234000\n",
              "14     6648000\n",
              "15     6585000\n",
              "16     8655000\n",
              "17    10801000\n",
              "18    12603000\n",
              "19    13202000\n",
              "20    14323000\n",
              "21    10550000\n",
              "22    14430000\n",
              "23    13756000\n",
              "24    13624000\n",
              "25    16689000\n",
              "26    16774000\n",
              "27    17870000\n",
              "28    18900000\n",
              "29    18476000\n",
              "30    18469000\n",
              "31    17558000\n",
              "32    20001303\n",
              "33    18710281\n",
              "34    21046680\n",
              "35    16686971\n",
              "36    22845144\n",
              "37    22264954\n",
              "38    24428349\n",
              "39    25693459\n",
              "40    26076085\n",
              "41    29146729\n",
              "42    29062581\n",
              "43    28957580\n",
              "Name: jumlah_penumpang, dtype: int64"
            ],
            "text/html": [
              "<table border=\"1\" class=\"dataframe\">\n",
              "  <thead>\n",
              "    <tr style=\"text-align: right;\">\n",
              "      <th></th>\n",
              "      <th>jumlah_penumpang</th>\n",
              "    </tr>\n",
              "  </thead>\n",
              "  <tbody>\n",
              "    <tr>\n",
              "      <th>0</th>\n",
              "      <td>2282000</td>\n",
              "    </tr>\n",
              "    <tr>\n",
              "      <th>1</th>\n",
              "      <td>4228000</td>\n",
              "    </tr>\n",
              "    <tr>\n",
              "      <th>2</th>\n",
              "      <td>5515000</td>\n",
              "    </tr>\n",
              "    <tr>\n",
              "      <th>3</th>\n",
              "      <td>5442000</td>\n",
              "    </tr>\n",
              "    <tr>\n",
              "      <th>4</th>\n",
              "      <td>4782000</td>\n",
              "    </tr>\n",
              "    <tr>\n",
              "      <th>5</th>\n",
              "      <td>4265000</td>\n",
              "    </tr>\n",
              "    <tr>\n",
              "      <th>6</th>\n",
              "      <td>5414000</td>\n",
              "    </tr>\n",
              "    <tr>\n",
              "      <th>7</th>\n",
              "      <td>5302000</td>\n",
              "    </tr>\n",
              "    <tr>\n",
              "      <th>8</th>\n",
              "      <td>9964000</td>\n",
              "    </tr>\n",
              "    <tr>\n",
              "      <th>9</th>\n",
              "      <td>9536000</td>\n",
              "    </tr>\n",
              "    <tr>\n",
              "      <th>10</th>\n",
              "      <td>11758000</td>\n",
              "    </tr>\n",
              "    <tr>\n",
              "      <th>11</th>\n",
              "      <td>11844000</td>\n",
              "    </tr>\n",
              "    <tr>\n",
              "      <th>12</th>\n",
              "      <td>10982000</td>\n",
              "    </tr>\n",
              "    <tr>\n",
              "      <th>13</th>\n",
              "      <td>11234000</td>\n",
              "    </tr>\n",
              "    <tr>\n",
              "      <th>14</th>\n",
              "      <td>6648000</td>\n",
              "    </tr>\n",
              "    <tr>\n",
              "      <th>15</th>\n",
              "      <td>6585000</td>\n",
              "    </tr>\n",
              "    <tr>\n",
              "      <th>16</th>\n",
              "      <td>8655000</td>\n",
              "    </tr>\n",
              "    <tr>\n",
              "      <th>17</th>\n",
              "      <td>10801000</td>\n",
              "    </tr>\n",
              "    <tr>\n",
              "      <th>18</th>\n",
              "      <td>12603000</td>\n",
              "    </tr>\n",
              "    <tr>\n",
              "      <th>19</th>\n",
              "      <td>13202000</td>\n",
              "    </tr>\n",
              "    <tr>\n",
              "      <th>20</th>\n",
              "      <td>14323000</td>\n",
              "    </tr>\n",
              "    <tr>\n",
              "      <th>21</th>\n",
              "      <td>10550000</td>\n",
              "    </tr>\n",
              "    <tr>\n",
              "      <th>22</th>\n",
              "      <td>14430000</td>\n",
              "    </tr>\n",
              "    <tr>\n",
              "      <th>23</th>\n",
              "      <td>13756000</td>\n",
              "    </tr>\n",
              "    <tr>\n",
              "      <th>24</th>\n",
              "      <td>13624000</td>\n",
              "    </tr>\n",
              "    <tr>\n",
              "      <th>25</th>\n",
              "      <td>16689000</td>\n",
              "    </tr>\n",
              "    <tr>\n",
              "      <th>26</th>\n",
              "      <td>16774000</td>\n",
              "    </tr>\n",
              "    <tr>\n",
              "      <th>27</th>\n",
              "      <td>17870000</td>\n",
              "    </tr>\n",
              "    <tr>\n",
              "      <th>28</th>\n",
              "      <td>18900000</td>\n",
              "    </tr>\n",
              "    <tr>\n",
              "      <th>29</th>\n",
              "      <td>18476000</td>\n",
              "    </tr>\n",
              "    <tr>\n",
              "      <th>30</th>\n",
              "      <td>18469000</td>\n",
              "    </tr>\n",
              "    <tr>\n",
              "      <th>31</th>\n",
              "      <td>17558000</td>\n",
              "    </tr>\n",
              "    <tr>\n",
              "      <th>32</th>\n",
              "      <td>20001303</td>\n",
              "    </tr>\n",
              "    <tr>\n",
              "      <th>33</th>\n",
              "      <td>18710281</td>\n",
              "    </tr>\n",
              "    <tr>\n",
              "      <th>34</th>\n",
              "      <td>21046680</td>\n",
              "    </tr>\n",
              "    <tr>\n",
              "      <th>35</th>\n",
              "      <td>16686971</td>\n",
              "    </tr>\n",
              "    <tr>\n",
              "      <th>36</th>\n",
              "      <td>22845144</td>\n",
              "    </tr>\n",
              "    <tr>\n",
              "      <th>37</th>\n",
              "      <td>22264954</td>\n",
              "    </tr>\n",
              "    <tr>\n",
              "      <th>38</th>\n",
              "      <td>24428349</td>\n",
              "    </tr>\n",
              "    <tr>\n",
              "      <th>39</th>\n",
              "      <td>25693459</td>\n",
              "    </tr>\n",
              "    <tr>\n",
              "      <th>40</th>\n",
              "      <td>26076085</td>\n",
              "    </tr>\n",
              "    <tr>\n",
              "      <th>41</th>\n",
              "      <td>29146729</td>\n",
              "    </tr>\n",
              "    <tr>\n",
              "      <th>42</th>\n",
              "      <td>29062581</td>\n",
              "    </tr>\n",
              "    <tr>\n",
              "      <th>43</th>\n",
              "      <td>28957580</td>\n",
              "    </tr>\n",
              "  </tbody>\n",
              "</table><br><label><b>dtype:</b> int64</label>"
            ]
          },
          "metadata": {},
          "execution_count": 525
        }
      ],
      "source": [
        "df1"
      ]
    },
    {
      "cell_type": "code",
      "execution_count": 526,
      "metadata": {
        "colab": {
          "base_uri": "https://localhost:8080/",
          "height": 463
        },
        "id": "znkD-McrhwUX",
        "outputId": "b7033e78-372c-43ff-8d9f-faf38b604f78"
      },
      "outputs": [
        {
          "output_type": "execute_result",
          "data": {
            "text/plain": [
              "[<matplotlib.lines.Line2D at 0x7ae11ea8f2b0>]"
            ]
          },
          "metadata": {},
          "execution_count": 526
        },
        {
          "output_type": "display_data",
          "data": {
            "text/plain": [
              "<Figure size 640x480 with 1 Axes>"
            ],
            "image/png": "[encoded data removed]"
          },
          "metadata": {}
        }
      ],
      "source": [
        "import matplotlib.pyplot as plt\n",
        "plt.plot(df1)"
      ]
    },
    {
      "cell_type": "code",
      "execution_count": null,
      "metadata": {
        "id": "xLJ7PYUXhwUX"
      },
      "outputs": [],
      "source": [
        "### LSTM are sensitive to the scale of the data. so we apply MinMax scaler"
      ]
    },
    {
      "cell_type": "code",
      "execution_count": 527,
      "metadata": {
        "id": "WXMJ_DYBhwUX"
      },
      "outputs": [],
      "source": [
        "import numpy as np"
      ]
    },
    {
      "cell_type": "code",
      "execution_count": 528,
      "metadata": {
        "colab": {
          "base_uri": "https://localhost:8080/",
          "height": 1000
        },
        "collapsed": true,
        "id": "6luDQzavhwUX",
        "outputId": "352a12c7-f726-4e93-b2e7-b07054f55eed"
      },
      "outputs": [
        {
          "output_type": "execute_result",
          "data": {
            "text/plain": [
              "0      2282000\n",
              "1      4228000\n",
              "2      5515000\n",
              "3      5442000\n",
              "4      4782000\n",
              "5      4265000\n",
              "6      5414000\n",
              "7      5302000\n",
              "8      9964000\n",
              "9      9536000\n",
              "10    11758000\n",
              "11    11844000\n",
              "12    10982000\n",
              "13    11234000\n",
              "14     6648000\n",
              "15     6585000\n",
              "16     8655000\n",
              "17    10801000\n",
              "18    12603000\n",
              "19    13202000\n",
              "20    14323000\n",
              "21    10550000\n",
              "22    14430000\n",
              "23    13756000\n",
              "24    13624000\n",
              "25    16689000\n",
              "26    16774000\n",
              "27    17870000\n",
              "28    18900000\n",
              "29    18476000\n",
              "30    18469000\n",
              "31    17558000\n",
              "32    20001303\n",
              "33    18710281\n",
              "34    21046680\n",
              "35    16686971\n",
              "36    22845144\n",
              "37    22264954\n",
              "38    24428349\n",
              "39    25693459\n",
              "40    26076085\n",
              "41    29146729\n",
              "42    29062581\n",
              "43    28957580\n",
              "Name: jumlah_penumpang, dtype: int64"
            ],
            "text/html": [
              "<table border=\"1\" class=\"dataframe\">\n",
              "  <thead>\n",
              "    <tr style=\"text-align: right;\">\n",
              "      <th></th>\n",
              "      <th>jumlah_penumpang</th>\n",
              "    </tr>\n",
              "  </thead>\n",
              "  <tbody>\n",
              "    <tr>\n",
              "      <th>0</th>\n",
              "      <td>2282000</td>\n",
              "    </tr>\n",
              "    <tr>\n",
              "      <th>1</th>\n",
              "      <td>4228000</td>\n",
              "    </tr>\n",
              "    <tr>\n",
              "      <th>2</th>\n",
              "      <td>5515000</td>\n",
              "    </tr>\n",
              "    <tr>\n",
              "      <th>3</th>\n",
              "      <td>5442000</td>\n",
              "    </tr>\n",
              "    <tr>\n",
              "      <th>4</th>\n",
              "      <td>4782000</td>\n",
              "    </tr>\n",
              "    <tr>\n",
              "      <th>5</th>\n",
              "      <td>4265000</td>\n",
              "    </tr>\n",
              "    <tr>\n",
              "      <th>6</th>\n",
              "      <td>5414000</td>\n",
              "    </tr>\n",
              "    <tr>\n",
              "      <th>7</th>\n",
              "      <td>5302000</td>\n",
              "    </tr>\n",
              "    <tr>\n",
              "      <th>8</th>\n",
              "      <td>9964000</td>\n",
              "    </tr>\n",
              "    <tr>\n",
              "      <th>9</th>\n",
              "      <td>9536000</td>\n",
              "    </tr>\n",
              "    <tr>\n",
              "      <th>10</th>\n",
              "      <td>11758000</td>\n",
              "    </tr>\n",
              "    <tr>\n",
              "      <th>11</th>\n",
              "      <td>11844000</td>\n",
              "    </tr>\n",
              "    <tr>\n",
              "      <th>12</th>\n",
              "      <td>10982000</td>\n",
              "    </tr>\n",
              "    <tr>\n",
              "      <th>13</th>\n",
              "      <td>11234000</td>\n",
              "    </tr>\n",
              "    <tr>\n",
              "      <th>14</th>\n",
              "      <td>6648000</td>\n",
              "    </tr>\n",
              "    <tr>\n",
              "      <th>15</th>\n",
              "      <td>6585000</td>\n",
              "    </tr>\n",
              "    <tr>\n",
              "      <th>16</th>\n",
              "      <td>8655000</td>\n",
              "    </tr>\n",
              "    <tr>\n",
              "      <th>17</th>\n",
              "      <td>10801000</td>\n",
              "    </tr>\n",
              "    <tr>\n",
              "      <th>18</th>\n",
              "      <td>12603000</td>\n",
              "    </tr>\n",
              "    <tr>\n",
              "      <th>19</th>\n",
              "      <td>13202000</td>\n",
              "    </tr>\n",
              "    <tr>\n",
              "      <th>20</th>\n",
              "      <td>14323000</td>\n",
              "    </tr>\n",
              "    <tr>\n",
              "      <th>21</th>\n",
              "      <td>10550000</td>\n",
              "    </tr>\n",
              "    <tr>\n",
              "      <th>22</th>\n",
              "      <td>14430000</td>\n",
              "    </tr>\n",
              "    <tr>\n",
              "      <th>23</th>\n",
              "      <td>13756000</td>\n",
              "    </tr>\n",
              "    <tr>\n",
              "      <th>24</th>\n",
              "      <td>13624000</td>\n",
              "    </tr>\n",
              "    <tr>\n",
              "      <th>25</th>\n",
              "      <td>16689000</td>\n",
              "    </tr>\n",
              "    <tr>\n",
              "      <th>26</th>\n",
              "      <td>16774000</td>\n",
              "    </tr>\n",
              "    <tr>\n",
              "      <th>27</th>\n",
              "      <td>17870000</td>\n",
              "    </tr>\n",
              "    <tr>\n",
              "      <th>28</th>\n",
              "      <td>18900000</td>\n",
              "    </tr>\n",
              "    <tr>\n",
              "      <th>29</th>\n",
              "      <td>18476000</td>\n",
              "    </tr>\n",
              "    <tr>\n",
              "      <th>30</th>\n",
              "      <td>18469000</td>\n",
              "    </tr>\n",
              "    <tr>\n",
              "      <th>31</th>\n",
              "      <td>17558000</td>\n",
              "    </tr>\n",
              "    <tr>\n",
              "      <th>32</th>\n",
              "      <td>20001303</td>\n",
              "    </tr>\n",
              "    <tr>\n",
              "      <th>33</th>\n",
              "      <td>18710281</td>\n",
              "    </tr>\n",
              "    <tr>\n",
              "      <th>34</th>\n",
              "      <td>21046680</td>\n",
              "    </tr>\n",
              "    <tr>\n",
              "      <th>35</th>\n",
              "      <td>16686971</td>\n",
              "    </tr>\n",
              "    <tr>\n",
              "      <th>36</th>\n",
              "      <td>22845144</td>\n",
              "    </tr>\n",
              "    <tr>\n",
              "      <th>37</th>\n",
              "      <td>22264954</td>\n",
              "    </tr>\n",
              "    <tr>\n",
              "      <th>38</th>\n",
              "      <td>24428349</td>\n",
              "    </tr>\n",
              "    <tr>\n",
              "      <th>39</th>\n",
              "      <td>25693459</td>\n",
              "    </tr>\n",
              "    <tr>\n",
              "      <th>40</th>\n",
              "      <td>26076085</td>\n",
              "    </tr>\n",
              "    <tr>\n",
              "      <th>41</th>\n",
              "      <td>29146729</td>\n",
              "    </tr>\n",
              "    <tr>\n",
              "      <th>42</th>\n",
              "      <td>29062581</td>\n",
              "    </tr>\n",
              "    <tr>\n",
              "      <th>43</th>\n",
              "      <td>28957580</td>\n",
              "    </tr>\n",
              "  </tbody>\n",
              "</table><br><label><b>dtype:</b> int64</label>"
            ]
          },
          "metadata": {},
          "execution_count": 528
        }
      ],
      "source": [
        "df1"
      ]
    },
    {
      "cell_type": "code",
      "execution_count": 529,
      "metadata": {
        "id": "NyAjyRiphwUX"
      },
      "outputs": [],
      "source": [
        "from sklearn.preprocessing import MinMaxScaler\n",
        "scaler=MinMaxScaler(feature_range=(0,1))\n",
        "df1=scaler.fit_transform(np.array(df1).reshape(-1,1))"
      ]
    },
    {
      "cell_type": "code",
      "execution_count": 530,
      "metadata": {
        "colab": {
          "base_uri": "https://localhost:8080/"
        },
        "collapsed": true,
        "id": "mb_RQvRPhwUX",
        "outputId": "9805ce54-f6f1-4e2c-f8ca-f55e9ebdf397"
      },
      "outputs": [
        {
          "output_type": "stream",
          "name": "stdout",
          "text": [
            "[[0.        ]\n",
            " [0.07243699]\n",
            " [0.12034367]\n",
            " [0.11762635]\n",
            " [0.09305882]\n",
            " [0.07381426]\n",
            " [0.11658409]\n",
            " [0.11241506]\n",
            " [0.28595114]\n",
            " [0.27001947]\n",
            " [0.35273015]\n",
            " [0.35593138]\n",
            " [0.3238447 ]\n",
            " [0.33322503]\n",
            " [0.16251792]\n",
            " [0.16017284]\n",
            " [0.23722555]\n",
            " [0.31710724]\n",
            " [0.38418404]\n",
            " [0.40648093]\n",
            " [0.4482085 ]\n",
            " [0.30776413]\n",
            " [0.45219142]\n",
            " [0.42710276]\n",
            " [0.42218926]\n",
            " [0.53627937]\n",
            " [0.53944337]\n",
            " [0.58024036]\n",
            " [0.61858059]\n",
            " [0.60279782]\n",
            " [0.60253725]\n",
            " [0.56862662]\n",
            " [0.65957498]\n",
            " [0.61151858]\n",
            " [0.6984876 ]\n",
            " [0.53620385]\n",
            " [0.76543277]\n",
            " [0.74383605]\n",
            " [0.82436525]\n",
            " [0.87145711]\n",
            " [0.8856998 ]\n",
            " [1.        ]\n",
            " [0.99686771]\n",
            " [0.99295921]]\n"
          ]
        }
      ],
      "source": [
        "print(df1)"
      ]
    },
    {
      "cell_type": "code",
      "execution_count": 531,
      "metadata": {
        "id": "iWpX3kxAhwUX"
      },
      "outputs": [],
      "source": [
        "##splitting dataset into train and test split\n",
        "training_size=int(len(df1)*0.9)\n",
        "test_size=len(df1)-training_size\n",
        "train_data,test_data=df1[0:training_size,:],df1[training_size:len(df1),:1]"
      ]
    },
    {
      "cell_type": "code",
      "execution_count": 532,
      "metadata": {
        "colab": {
          "base_uri": "https://localhost:8080/"
        },
        "id": "QzLqyNNyhwUX",
        "outputId": "a6207132-6456-4c2d-ccc1-4f05ff766382"
      },
      "outputs": [
        {
          "output_type": "execute_result",
          "data": {
            "text/plain": [
              "(39, 5)"
            ]
          },
          "metadata": {},
          "execution_count": 532
        }
      ],
      "source": [
        "training_size,test_size"
      ]
    },
    {
      "cell_type": "code",
      "execution_count": 533,
      "metadata": {
        "colab": {
          "base_uri": "https://localhost:8080/"
        },
        "collapsed": true,
        "id": "ceyhEZ7ehwUY",
        "outputId": "23b5ba7e-e47b-417f-effc-8a6ee0e01847"
      },
      "outputs": [
        {
          "output_type": "execute_result",
          "data": {
            "text/plain": [
              "array([[0.        ],\n",
              "       [0.07243699],\n",
              "       [0.12034367],\n",
              "       [0.11762635],\n",
              "       [0.09305882],\n",
              "       [0.07381426],\n",
              "       [0.11658409],\n",
              "       [0.11241506],\n",
              "       [0.28595114],\n",
              "       [0.27001947],\n",
              "       [0.35273015],\n",
              "       [0.35593138],\n",
              "       [0.3238447 ],\n",
              "       [0.33322503],\n",
              "       [0.16251792],\n",
              "       [0.16017284],\n",
              "       [0.23722555],\n",
              "       [0.31710724],\n",
              "       [0.38418404],\n",
              "       [0.40648093],\n",
              "       [0.4482085 ],\n",
              "       [0.30776413],\n",
              "       [0.45219142],\n",
              "       [0.42710276],\n",
              "       [0.42218926],\n",
              "       [0.53627937],\n",
              "       [0.53944337],\n",
              "       [0.58024036],\n",
              "       [0.61858059],\n",
              "       [0.60279782],\n",
              "       [0.60253725],\n",
              "       [0.56862662],\n",
              "       [0.65957498],\n",
              "       [0.61151858],\n",
              "       [0.6984876 ],\n",
              "       [0.53620385],\n",
              "       [0.76543277],\n",
              "       [0.74383605],\n",
              "       [0.82436525]])"
            ]
          },
          "metadata": {},
          "execution_count": 533
        }
      ],
      "source": [
        "train_data"
      ]
    },
    {
      "cell_type": "code",
      "execution_count": 534,
      "metadata": {
        "id": "ATjbJTrNhwUY"
      },
      "outputs": [],
      "source": [
        "import numpy\n",
        "# convert an array of values into a dataset matrix\n",
        "def create_dataset(dataset, time_step=1):\n",
        "\tdataX, dataY = [], []\n",
        "\tfor i in range(len(dataset)-time_step-1):\n",
        "\t\ta = dataset[i:(i+time_step), 0]   ###i=0, 0,1,2,3-----99   100\n",
        "\t\tdataX.append(a)\n",
        "\t\tdataY.append(dataset[i + time_step, 0])\n",
        "\treturn numpy.array(dataX), numpy.array(dataY)"
      ]
    },
    {
      "cell_type": "code",
      "execution_count": 535,
      "metadata": {
        "id": "1KNnsvh2hwUY"
      },
      "outputs": [],
      "source": [
        "# reshape into X=t,t+1,t+2,t+3 and Y=t+4\n",
        "time_step = 1\n",
        "X_train, y_train = create_dataset(train_data, time_step)\n",
        "X_test, ytest = create_dataset(test_data, time_step)"
      ]
    },
    {
      "cell_type": "code",
      "execution_count": 536,
      "metadata": {
        "colab": {
          "base_uri": "https://localhost:8080/"
        },
        "id": "AnDVQjUfhwUY",
        "outputId": "ea1b9919-cb4d-4093-b846-214698e53515"
      },
      "outputs": [
        {
          "output_type": "stream",
          "name": "stdout",
          "text": [
            "(37, 1)\n",
            "(37,)\n"
          ]
        },
        {
          "output_type": "execute_result",
          "data": {
            "text/plain": [
              "(None, None)"
            ]
          },
          "metadata": {},
          "execution_count": 536
        }
      ],
      "source": [
        "print(X_train.shape), print(y_train.shape)"
      ]
    },
    {
      "cell_type": "code",
      "execution_count": 537,
      "metadata": {
        "colab": {
          "base_uri": "https://localhost:8080/"
        },
        "id": "0GX5hz28hwUY",
        "outputId": "dbe06b36-29c5-4032-d909-0ef3228b08c4"
      },
      "outputs": [
        {
          "output_type": "stream",
          "name": "stdout",
          "text": [
            "(3, 1)\n",
            "(3,)\n"
          ]
        },
        {
          "output_type": "execute_result",
          "data": {
            "text/plain": [
              "(None, None)"
            ]
          },
          "metadata": {},
          "execution_count": 537
        }
      ],
      "source": [
        "print(X_test.shape), print(ytest.shape)"
      ]
    },
    {
      "cell_type": "code",
      "execution_count": 538,
      "metadata": {
        "id": "9ZgCRJpihwUY"
      },
      "outputs": [],
      "source": [
        "# reshape input to be [samples, time steps, features] which is required for LSTM\n",
        "X_train =X_train.reshape(X_train.shape[0],X_train.shape[1] , 1)\n",
        "X_test = X_test.reshape(X_test.shape[0],X_test.shape[1] , 1)"
      ]
    },
    {
      "cell_type": "code",
      "execution_count": 539,
      "metadata": {
        "id": "A16cvDMRhwUY"
      },
      "outputs": [],
      "source": [
        "### Create the Stacked LSTM model\n",
        "from tensorflow.keras.models import Sequential\n",
        "from tensorflow.keras.layers import Dense\n",
        "from tensorflow.keras.layers import LSTM"
      ]
    },
    {
      "cell_type": "code",
      "execution_count": 540,
      "metadata": {
        "id": "UKo-JLRJhwUY"
      },
      "outputs": [],
      "source": [
        "# model=Sequential()\n",
        "# model.add(LSTM(4,return_sequences=True,input_shape=(1,time_step)))\n",
        "# model.add(LSTM(4,return_sequences=True))\n",
        "# model.add(LSTM(4))\n",
        "# model.add(Dense(1))\n",
        "# model.compile(loss='mean_squared_error',optimizer='adam')\n",
        "\n",
        "model = Sequential()\n",
        "model.add(LSTM(4, input_shape=(time_step, 1)))\n",
        "model.add(Dense(1))\n",
        "model.compile(loss='mean_squared_error', optimizer='adam')"
      ]
    },
    {
      "cell_type": "code",
      "execution_count": 541,
      "metadata": {
        "colab": {
          "base_uri": "https://localhost:8080/"
        },
        "id": "WI85oi6qhwUY",
        "outputId": "d733214b-5143-4586-bd67-43995a688246"
      },
      "outputs": [
        {
          "output_type": "stream",
          "name": "stdout",
          "text": [
            "Model: \"sequential_14\"\n",
            "_________________________________________________________________\n",
            " Layer (type)                Output Shape              Param #   \n",
            "=================================================================\n",
            " lstm_14 (LSTM)              (None, 4)                 96        \n",
            "                                                                 \n",
            " dense_14 (Dense)            (None, 1)                 5         \n",
            "                                                                 \n",
            "=================================================================\n",
            "Total params: 101 (404.00 Byte)\n",
            "Trainable params: 101 (404.00 Byte)\n",
            "Non-trainable params: 0 (0.00 Byte)\n",
            "_________________________________________________________________\n"
          ]
        }
      ],
      "source": [
        "model.summary()"
      ]
    },
    {
      "cell_type": "code",
      "execution_count": 542,
      "metadata": {
        "colab": {
          "base_uri": "https://localhost:8080/"
        },
        "collapsed": true,
        "id": "AXkHP9C7hwUY",
        "outputId": "a18091cd-2b14-4b4f-9482-dd436d9b880d"
      },
      "outputs": [
        {
          "output_type": "stream",
          "name": "stdout",
          "text": [
            "Epoch 1/100\n",
            "37/37 - 3s - loss: 0.2115 - val_loss: 0.9405 - 3s/epoch - 86ms/step\n",
            "Epoch 2/100\n",
            "37/37 - 0s - loss: 0.1567 - val_loss: 0.7936 - 115ms/epoch - 3ms/step\n",
            "Epoch 3/100\n",
            "37/37 - 0s - loss: 0.1160 - val_loss: 0.6623 - 102ms/epoch - 3ms/step\n",
            "Epoch 4/100\n",
            "37/37 - 0s - loss: 0.0855 - val_loss: 0.5485 - 118ms/epoch - 3ms/step\n",
            "Epoch 5/100\n",
            "37/37 - 0s - loss: 0.0646 - val_loss: 0.4507 - 103ms/epoch - 3ms/step\n",
            "Epoch 6/100\n",
            "37/37 - 0s - loss: 0.0496 - val_loss: 0.3833 - 131ms/epoch - 4ms/step\n",
            "Epoch 7/100\n",
            "37/37 - 0s - loss: 0.0407 - val_loss: 0.3267 - 100ms/epoch - 3ms/step\n",
            "Epoch 8/100\n",
            "37/37 - 0s - loss: 0.0355 - val_loss: 0.2830 - 96ms/epoch - 3ms/step\n",
            "Epoch 9/100\n",
            "37/37 - 0s - loss: 0.0325 - val_loss: 0.2533 - 103ms/epoch - 3ms/step\n",
            "Epoch 10/100\n",
            "37/37 - 0s - loss: 0.0315 - val_loss: 0.2188 - 103ms/epoch - 3ms/step\n",
            "Epoch 11/100\n",
            "37/37 - 0s - loss: 0.0298 - val_loss: 0.2068 - 129ms/epoch - 3ms/step\n",
            "Epoch 12/100\n",
            "37/37 - 0s - loss: 0.0288 - val_loss: 0.2043 - 104ms/epoch - 3ms/step\n",
            "Epoch 13/100\n",
            "37/37 - 0s - loss: 0.0278 - val_loss: 0.1898 - 101ms/epoch - 3ms/step\n",
            "Epoch 14/100\n",
            "37/37 - 0s - loss: 0.0271 - val_loss: 0.1832 - 106ms/epoch - 3ms/step\n",
            "Epoch 15/100\n",
            "37/37 - 0s - loss: 0.0262 - val_loss: 0.1678 - 135ms/epoch - 4ms/step\n",
            "Epoch 16/100\n",
            "37/37 - 0s - loss: 0.0254 - val_loss: 0.1674 - 104ms/epoch - 3ms/step\n",
            "Epoch 17/100\n",
            "37/37 - 0s - loss: 0.0246 - val_loss: 0.1538 - 96ms/epoch - 3ms/step\n",
            "Epoch 18/100\n",
            "37/37 - 0s - loss: 0.0237 - val_loss: 0.1505 - 114ms/epoch - 3ms/step\n",
            "Epoch 19/100\n",
            "37/37 - 0s - loss: 0.0230 - val_loss: 0.1474 - 98ms/epoch - 3ms/step\n",
            "Epoch 20/100\n",
            "37/37 - 0s - loss: 0.0222 - val_loss: 0.1317 - 105ms/epoch - 3ms/step\n",
            "Epoch 21/100\n",
            "37/37 - 0s - loss: 0.0214 - val_loss: 0.1278 - 104ms/epoch - 3ms/step\n",
            "Epoch 22/100\n",
            "37/37 - 0s - loss: 0.0207 - val_loss: 0.1212 - 114ms/epoch - 3ms/step\n",
            "Epoch 23/100\n",
            "37/37 - 0s - loss: 0.0199 - val_loss: 0.1178 - 97ms/epoch - 3ms/step\n",
            "Epoch 24/100\n",
            "37/37 - 0s - loss: 0.0192 - val_loss: 0.1127 - 114ms/epoch - 3ms/step\n",
            "Epoch 25/100\n",
            "37/37 - 0s - loss: 0.0185 - val_loss: 0.1074 - 112ms/epoch - 3ms/step\n",
            "Epoch 26/100\n",
            "37/37 - 0s - loss: 0.0179 - val_loss: 0.0987 - 96ms/epoch - 3ms/step\n",
            "Epoch 27/100\n",
            "37/37 - 0s - loss: 0.0173 - val_loss: 0.1012 - 95ms/epoch - 3ms/step\n",
            "Epoch 28/100\n",
            "37/37 - 0s - loss: 0.0164 - val_loss: 0.0886 - 127ms/epoch - 3ms/step\n",
            "Epoch 29/100\n",
            "37/37 - 0s - loss: 0.0161 - val_loss: 0.0873 - 119ms/epoch - 3ms/step\n",
            "Epoch 30/100\n",
            "37/37 - 0s - loss: 0.0156 - val_loss: 0.0758 - 101ms/epoch - 3ms/step\n",
            "Epoch 31/100\n",
            "37/37 - 0s - loss: 0.0148 - val_loss: 0.0738 - 119ms/epoch - 3ms/step\n",
            "Epoch 32/100\n",
            "37/37 - 0s - loss: 0.0142 - val_loss: 0.0726 - 116ms/epoch - 3ms/step\n",
            "Epoch 33/100\n",
            "37/37 - 0s - loss: 0.0137 - val_loss: 0.0628 - 127ms/epoch - 3ms/step\n",
            "Epoch 34/100\n",
            "37/37 - 0s - loss: 0.0132 - val_loss: 0.0651 - 107ms/epoch - 3ms/step\n",
            "Epoch 35/100\n",
            "37/37 - 0s - loss: 0.0130 - val_loss: 0.0614 - 102ms/epoch - 3ms/step\n",
            "Epoch 36/100\n",
            "37/37 - 0s - loss: 0.0127 - val_loss: 0.0515 - 101ms/epoch - 3ms/step\n",
            "Epoch 37/100\n",
            "37/37 - 0s - loss: 0.0119 - val_loss: 0.0529 - 141ms/epoch - 4ms/step\n",
            "Epoch 38/100\n",
            "37/37 - 0s - loss: 0.0114 - val_loss: 0.0453 - 103ms/epoch - 3ms/step\n",
            "Epoch 39/100\n",
            "37/37 - 0s - loss: 0.0110 - val_loss: 0.0439 - 101ms/epoch - 3ms/step\n",
            "Epoch 40/100\n",
            "37/37 - 0s - loss: 0.0106 - val_loss: 0.0426 - 113ms/epoch - 3ms/step\n",
            "Epoch 41/100\n",
            "37/37 - 0s - loss: 0.0104 - val_loss: 0.0395 - 121ms/epoch - 3ms/step\n",
            "Epoch 42/100\n",
            "37/37 - 0s - loss: 0.0100 - val_loss: 0.0372 - 119ms/epoch - 3ms/step\n",
            "Epoch 43/100\n",
            "37/37 - 0s - loss: 0.0096 - val_loss: 0.0350 - 116ms/epoch - 3ms/step\n",
            "Epoch 44/100\n",
            "37/37 - 0s - loss: 0.0093 - val_loss: 0.0300 - 101ms/epoch - 3ms/step\n",
            "Epoch 45/100\n",
            "37/37 - 0s - loss: 0.0092 - val_loss: 0.0281 - 126ms/epoch - 3ms/step\n",
            "Epoch 46/100\n",
            "37/37 - 0s - loss: 0.0090 - val_loss: 0.0286 - 103ms/epoch - 3ms/step\n",
            "Epoch 47/100\n",
            "37/37 - 0s - loss: 0.0086 - val_loss: 0.0236 - 121ms/epoch - 3ms/step\n",
            "Epoch 48/100\n",
            "37/37 - 0s - loss: 0.0085 - val_loss: 0.0242 - 129ms/epoch - 3ms/step\n",
            "Epoch 49/100\n",
            "37/37 - 0s - loss: 0.0086 - val_loss: 0.0206 - 119ms/epoch - 3ms/step\n",
            "Epoch 50/100\n",
            "37/37 - 0s - loss: 0.0080 - val_loss: 0.0213 - 128ms/epoch - 3ms/step\n",
            "Epoch 51/100\n",
            "37/37 - 0s - loss: 0.0078 - val_loss: 0.0194 - 115ms/epoch - 3ms/step\n",
            "Epoch 52/100\n",
            "37/37 - 0s - loss: 0.0077 - val_loss: 0.0167 - 104ms/epoch - 3ms/step\n",
            "Epoch 53/100\n",
            "37/37 - 0s - loss: 0.0076 - val_loss: 0.0165 - 125ms/epoch - 3ms/step\n",
            "Epoch 54/100\n",
            "37/37 - 0s - loss: 0.0074 - val_loss: 0.0154 - 115ms/epoch - 3ms/step\n",
            "Epoch 55/100\n",
            "37/37 - 0s - loss: 0.0073 - val_loss: 0.0134 - 103ms/epoch - 3ms/step\n",
            "Epoch 56/100\n",
            "37/37 - 0s - loss: 0.0073 - val_loss: 0.0132 - 109ms/epoch - 3ms/step\n",
            "Epoch 57/100\n",
            "37/37 - 0s - loss: 0.0072 - val_loss: 0.0121 - 101ms/epoch - 3ms/step\n",
            "Epoch 58/100\n",
            "37/37 - 0s - loss: 0.0070 - val_loss: 0.0103 - 115ms/epoch - 3ms/step\n",
            "Epoch 59/100\n",
            "37/37 - 0s - loss: 0.0069 - val_loss: 0.0110 - 101ms/epoch - 3ms/step\n",
            "Epoch 60/100\n",
            "37/37 - 0s - loss: 0.0069 - val_loss: 0.0101 - 100ms/epoch - 3ms/step\n",
            "Epoch 61/100\n",
            "37/37 - 0s - loss: 0.0069 - val_loss: 0.0088 - 104ms/epoch - 3ms/step\n",
            "Epoch 62/100\n",
            "37/37 - 0s - loss: 0.0071 - val_loss: 0.0086 - 102ms/epoch - 3ms/step\n",
            "Epoch 63/100\n",
            "37/37 - 0s - loss: 0.0067 - val_loss: 0.0094 - 122ms/epoch - 3ms/step\n",
            "Epoch 64/100\n",
            "37/37 - 0s - loss: 0.0067 - val_loss: 0.0079 - 98ms/epoch - 3ms/step\n",
            "Epoch 65/100\n",
            "37/37 - 0s - loss: 0.0066 - val_loss: 0.0077 - 250ms/epoch - 7ms/step\n",
            "Epoch 66/100\n",
            "37/37 - 0s - loss: 0.0066 - val_loss: 0.0072 - 363ms/epoch - 10ms/step\n",
            "Epoch 67/100\n",
            "37/37 - 0s - loss: 0.0066 - val_loss: 0.0073 - 189ms/epoch - 5ms/step\n",
            "Epoch 68/100\n",
            "37/37 - 0s - loss: 0.0066 - val_loss: 0.0076 - 120ms/epoch - 3ms/step\n",
            "Epoch 69/100\n",
            "37/37 - 0s - loss: 0.0066 - val_loss: 0.0060 - 105ms/epoch - 3ms/step\n",
            "Epoch 70/100\n",
            "37/37 - 0s - loss: 0.0065 - val_loss: 0.0067 - 122ms/epoch - 3ms/step\n",
            "Epoch 71/100\n",
            "37/37 - 0s - loss: 0.0065 - val_loss: 0.0067 - 155ms/epoch - 4ms/step\n",
            "Epoch 72/100\n",
            "37/37 - 0s - loss: 0.0065 - val_loss: 0.0059 - 354ms/epoch - 10ms/step\n",
            "Epoch 73/100\n",
            "37/37 - 0s - loss: 0.0067 - val_loss: 0.0051 - 308ms/epoch - 8ms/step\n",
            "Epoch 74/100\n",
            "37/37 - 0s - loss: 0.0067 - val_loss: 0.0044 - 170ms/epoch - 5ms/step\n",
            "Epoch 75/100\n",
            "37/37 - 0s - loss: 0.0066 - val_loss: 0.0064 - 157ms/epoch - 4ms/step\n",
            "Epoch 76/100\n",
            "37/37 - 0s - loss: 0.0066 - val_loss: 0.0055 - 135ms/epoch - 4ms/step\n",
            "Epoch 77/100\n",
            "37/37 - 0s - loss: 0.0065 - val_loss: 0.0056 - 147ms/epoch - 4ms/step\n",
            "Epoch 78/100\n",
            "37/37 - 0s - loss: 0.0065 - val_loss: 0.0049 - 141ms/epoch - 4ms/step\n",
            "Epoch 79/100\n",
            "37/37 - 0s - loss: 0.0068 - val_loss: 0.0042 - 179ms/epoch - 5ms/step\n",
            "Epoch 80/100\n",
            "37/37 - 0s - loss: 0.0063 - val_loss: 0.0059 - 138ms/epoch - 4ms/step\n",
            "Epoch 81/100\n",
            "37/37 - 0s - loss: 0.0065 - val_loss: 0.0047 - 140ms/epoch - 4ms/step\n",
            "Epoch 82/100\n",
            "37/37 - 0s - loss: 0.0065 - val_loss: 0.0052 - 195ms/epoch - 5ms/step\n",
            "Epoch 83/100\n",
            "37/37 - 0s - loss: 0.0065 - val_loss: 0.0061 - 146ms/epoch - 4ms/step\n",
            "Epoch 84/100\n",
            "37/37 - 0s - loss: 0.0065 - val_loss: 0.0043 - 167ms/epoch - 5ms/step\n",
            "Epoch 85/100\n",
            "37/37 - 0s - loss: 0.0065 - val_loss: 0.0049 - 176ms/epoch - 5ms/step\n",
            "Epoch 86/100\n",
            "37/37 - 0s - loss: 0.0064 - val_loss: 0.0040 - 182ms/epoch - 5ms/step\n",
            "Epoch 87/100\n",
            "37/37 - 0s - loss: 0.0066 - val_loss: 0.0038 - 166ms/epoch - 4ms/step\n",
            "Epoch 88/100\n",
            "37/37 - 0s - loss: 0.0064 - val_loss: 0.0041 - 180ms/epoch - 5ms/step\n",
            "Epoch 89/100\n",
            "37/37 - 0s - loss: 0.0064 - val_loss: 0.0048 - 166ms/epoch - 4ms/step\n",
            "Epoch 90/100\n",
            "37/37 - 0s - loss: 0.0066 - val_loss: 0.0045 - 168ms/epoch - 5ms/step\n",
            "Epoch 91/100\n",
            "37/37 - 0s - loss: 0.0065 - val_loss: 0.0037 - 183ms/epoch - 5ms/step\n",
            "Epoch 92/100\n",
            "37/37 - 0s - loss: 0.0064 - val_loss: 0.0052 - 193ms/epoch - 5ms/step\n",
            "Epoch 93/100\n",
            "37/37 - 0s - loss: 0.0064 - val_loss: 0.0044 - 179ms/epoch - 5ms/step\n",
            "Epoch 94/100\n",
            "37/37 - 0s - loss: 0.0064 - val_loss: 0.0043 - 173ms/epoch - 5ms/step\n",
            "Epoch 95/100\n",
            "37/37 - 0s - loss: 0.0066 - val_loss: 0.0038 - 124ms/epoch - 3ms/step\n",
            "Epoch 96/100\n",
            "37/37 - 0s - loss: 0.0066 - val_loss: 0.0037 - 99ms/epoch - 3ms/step\n",
            "Epoch 97/100\n",
            "37/37 - 0s - loss: 0.0065 - val_loss: 0.0042 - 125ms/epoch - 3ms/step\n",
            "Epoch 98/100\n",
            "37/37 - 0s - loss: 0.0065 - val_loss: 0.0046 - 116ms/epoch - 3ms/step\n",
            "Epoch 99/100\n",
            "37/37 - 0s - loss: 0.0064 - val_loss: 0.0040 - 110ms/epoch - 3ms/step\n",
            "Epoch 100/100\n",
            "37/37 - 0s - loss: 0.0064 - val_loss: 0.0041 - 124ms/epoch - 3ms/step\n"
          ]
        },
        {
          "output_type": "execute_result",
          "data": {
            "text/plain": [
              "<keras.src.callbacks.History at 0x7ae11de1f0a0>"
            ]
          },
          "metadata": {},
          "execution_count": 542
        }
      ],
      "source": [
        "model.fit(X_train,y_train,validation_data=(X_test,ytest),epochs=100,batch_size=1,verbose=2)"
      ]
    },
    {
      "cell_type": "code",
      "execution_count": 543,
      "metadata": {
        "id": "Nqi-V7NHhwUY"
      },
      "outputs": [],
      "source": [
        "import tensorflow as tf"
      ]
    },
    {
      "cell_type": "code",
      "execution_count": 544,
      "metadata": {
        "colab": {
          "base_uri": "https://localhost:8080/",
          "height": 36
        },
        "id": "9cwy58NahwUY",
        "outputId": "325ae64a-cd1a-4bbd-a43e-6cff834b8592"
      },
      "outputs": [
        {
          "output_type": "execute_result",
          "data": {
            "text/plain": [
              "'2.15.0'"
            ],
            "application/vnd.google.colaboratory.intrinsic+json": {
              "type": "string"
            }
          },
          "metadata": {},
          "execution_count": 544
        }
      ],
      "source": [
        "tf.__version__"
      ]
    },
    {
      "cell_type": "code",
      "execution_count": 545,
      "metadata": {
        "colab": {
          "base_uri": "https://localhost:8080/"
        },
        "id": "u1M1rOqxhwUY",
        "outputId": "d0c3348a-d927-41b7-f4ba-d6b43c339704"
      },
      "outputs": [
        {
          "output_type": "stream",
          "name": "stdout",
          "text": [
            "2/2 [==============================] - 0s 5ms/step\n",
            "1/1 [==============================] - 0s 22ms/step\n"
          ]
        }
      ],
      "source": [
        "### Lets Do the prediction and check performance metrics\n",
        "train_predict=model.predict(X_train)\n",
        "test_predict=model.predict(X_test)"
      ]
    },
    {
      "cell_type": "code",
      "execution_count": 546,
      "metadata": {
        "id": "bqsjcDffhwUY"
      },
      "outputs": [],
      "source": [
        "##Transformback to original form\n",
        "train_predict=scaler.inverse_transform(train_predict)\n",
        "test_predict=scaler.inverse_transform(test_predict)"
      ]
    },
    {
      "cell_type": "code",
      "execution_count": 547,
      "metadata": {
        "colab": {
          "base_uri": "https://localhost:8080/"
        },
        "id": "LzffhZp5hwUY",
        "outputId": "0ca14705-2c4f-43e2-fa22-d9bf296958af"
      },
      "outputs": [
        {
          "output_type": "execute_result",
          "data": {
            "text/plain": [
              "13737242.30109427"
            ]
          },
          "metadata": {},
          "execution_count": 547
        }
      ],
      "source": [
        "### Calculate RMSE performance metrics\n",
        "import math\n",
        "from sklearn.metrics import mean_squared_error\n",
        "math.sqrt(mean_squared_error(y_train,train_predict))"
      ]
    },
    {
      "cell_type": "code",
      "execution_count": 548,
      "metadata": {
        "colab": {
          "base_uri": "https://localhost:8080/"
        },
        "id": "HbMfwWckhwUZ",
        "outputId": "ef3ff329-5028-4839-a8a4-4157be034b5d"
      },
      "outputs": [
        {
          "output_type": "execute_result",
          "data": {
            "text/plain": [
              "27083299.655534405"
            ]
          },
          "metadata": {},
          "execution_count": 548
        }
      ],
      "source": [
        "### Test Data RMSE\n",
        "math.sqrt(mean_squared_error(ytest,test_predict))"
      ]
    },
    {
      "cell_type": "code",
      "source": [
        "# calculate root mean squared error\n",
        "trainScore = np.sqrt(mean_squared_error(y_train,train_predict))\n",
        "print('Train Score: %.2f RMSE' % (trainScore))\n",
        "testScore = np.sqrt(mean_squared_error(ytest,test_predict))\n",
        "print('Test Score: %.2f RMSE' % (testScore))"
      ],
      "metadata": {
        "colab": {
          "base_uri": "https://localhost:8080/"
        },
        "id": "UehkJRp8sJGY",
        "outputId": "bfd55629-dac8-4854-cf81-a54d155e49f0"
      },
      "execution_count": 549,
      "outputs": [
        {
          "output_type": "stream",
          "name": "stdout",
          "text": [
            "Train Score: 13737242.30 RMSE\n",
            "Test Score: 27083299.66 RMSE\n"
          ]
        }
      ]
    },
    {
      "cell_type": "code",
      "execution_count": 550,
      "metadata": {
        "colab": {
          "base_uri": "https://localhost:8080/",
          "height": 445
        },
        "id": "uwl_tW0lhwUZ",
        "outputId": "d0e2bcf5-16d0-4948-d047-ec21b07356fa"
      },
      "outputs": [
        {
          "output_type": "display_data",
          "data": {
            "text/plain": [
              "<Figure size 640x480 with 1 Axes>"
            ],
            "image/png": "[encoded data removed]"
          },
          "metadata": {}
        }
      ],
      "source": [
        "### Plotting\n",
        "# shift train predictions for plotting\n",
        "look_back=1\n",
        "trainPredictPlot = numpy.empty_like(df1)\n",
        "trainPredictPlot[:, :] = np.nan\n",
        "trainPredictPlot[look_back:len(train_predict)+look_back, :] = train_predict\n",
        "# shift test predictions for plotting\n",
        "testPredictPlot = numpy.empty_like(df1)\n",
        "testPredictPlot[:, :] = numpy.nan\n",
        "testPredictPlot[len(train_predict)+(look_back*2)+1:len(df1)-1, :] = test_predict\n",
        "# plot baseline and predictions\n",
        "plt.plot(scaler.inverse_transform(df1))\n",
        "plt.plot(trainPredictPlot)\n",
        "plt.plot(testPredictPlot)\n",
        "plt.show()"
      ]
    },
    {
      "cell_type": "code",
      "execution_count": 551,
      "metadata": {
        "colab": {
          "base_uri": "https://localhost:8080/"
        },
        "id": "m7gCgNWThwUZ",
        "outputId": "95e062a0-d569-4fdd-bcdb-6dec053c1ee8"
      },
      "outputs": [
        {
          "output_type": "execute_result",
          "data": {
            "text/plain": [
              "5"
            ]
          },
          "metadata": {},
          "execution_count": 551
        }
      ],
      "source": [
        "len(test_data)"
      ]
    },
    {
      "cell_type": "code",
      "execution_count": 552,
      "metadata": {
        "colab": {
          "base_uri": "https://localhost:8080/"
        },
        "id": "Sa5QNb-OhwUc",
        "outputId": "971afee0-8700-4bfd-c700-aa1d412e9866"
      },
      "outputs": [
        {
          "output_type": "execute_result",
          "data": {
            "text/plain": [
              "(1, 1)"
            ]
          },
          "metadata": {},
          "execution_count": 552
        }
      ],
      "source": [
        "x_input=test_data[4:].reshape(1,-1)\n",
        "x_input.shape\n"
      ]
    },
    {
      "cell_type": "code",
      "execution_count": null,
      "metadata": {
        "id": "c46NwSYEhwUc"
      },
      "outputs": [],
      "source": []
    },
    {
      "cell_type": "code",
      "execution_count": null,
      "metadata": {
        "id": "QUJVd-iuhwUc"
      },
      "outputs": [],
      "source": []
    },
    {
      "cell_type": "code",
      "execution_count": 553,
      "metadata": {
        "id": "Zef1PXTthwUc"
      },
      "outputs": [],
      "source": [
        "temp_input=list(x_input)\n",
        "temp_input=temp_input[0].tolist()"
      ]
    },
    {
      "cell_type": "code",
      "execution_count": 554,
      "metadata": {
        "colab": {
          "base_uri": "https://localhost:8080/"
        },
        "collapsed": true,
        "id": "pVINmWn4hwUc",
        "outputId": "ae58e7e8-cd29-4698-eb93-83f6aa3f9a1e"
      },
      "outputs": [
        {
          "output_type": "execute_result",
          "data": {
            "text/plain": [
              "[0.9929592068470149]"
            ]
          },
          "metadata": {},
          "execution_count": 554
        }
      ],
      "source": [
        "temp_input"
      ]
    },
    {
      "cell_type": "code",
      "execution_count": 555,
      "metadata": {
        "colab": {
          "base_uri": "https://localhost:8080/"
        },
        "id": "ANArxM3ohwUc",
        "outputId": "5b496a34-02b7-4e0c-f7e9-cf5d315239ea"
      },
      "outputs": [
        {
          "output_type": "stream",
          "name": "stdout",
          "text": [
            "[0.9930583]\n",
            "2\n",
            "1 day input [0.99305832]\n",
            "1 day output [[0.9931524]]\n",
            "2 day input [0.99315238]\n",
            "2 day output [[0.99324167]]\n",
            "3 day input [0.99324167]\n",
            "3 day output [[0.99332666]]\n",
            "4 day input [0.99332666]\n",
            "4 day output [[0.99340725]]\n",
            "5 day input [0.99340725]\n",
            "5 day output [[0.9934838]]\n",
            "[[0.9930583238601685], [0.993152379989624], [0.9932416677474976], [0.9933266639709473], [0.9934072494506836], [0.9934837818145752]]\n"
          ]
        }
      ],
      "source": [
        "# demonstrate prediction for next 10 days\n",
        "from numpy import array\n",
        "\n",
        "lst_output=[]\n",
        "n_steps=1\n",
        "i=0\n",
        "while(i<6):\n",
        "\n",
        "    if(len(temp_input)>1):\n",
        "        #print(temp_input)\n",
        "        x_input=np.array(temp_input[1:])\n",
        "        print(\"{} day input {}\".format(i,x_input))\n",
        "        x_input=x_input.reshape(1,-1)\n",
        "        x_input = x_input.reshape((1, n_steps, 1))\n",
        "        #print(x_input)\n",
        "        yhat = model.predict(x_input, verbose=0)\n",
        "        print(\"{} day output {}\".format(i,yhat))\n",
        "        temp_input.extend(yhat[0].tolist())\n",
        "        temp_input=temp_input[1:]\n",
        "        #print(temp_input)\n",
        "        lst_output.extend(yhat.tolist())\n",
        "        i=i+1\n",
        "    else:\n",
        "        x_input = x_input.reshape((1, n_steps,1))\n",
        "        yhat = model.predict(x_input, verbose=0)\n",
        "        print(yhat[0])\n",
        "        temp_input.extend(yhat[0].tolist())\n",
        "        print(len(temp_input))\n",
        "        lst_output.extend(yhat.tolist())\n",
        "        i=i+1\n",
        "\n",
        "\n",
        "print(lst_output)"
      ]
    },
    {
      "cell_type": "code",
      "execution_count": 556,
      "metadata": {
        "id": "PqADXnghhwUc"
      },
      "outputs": [],
      "source": [
        "day_new=np.arange(1,2)\n",
        "day_pred=np.arange(2,8)"
      ]
    },
    {
      "cell_type": "code",
      "execution_count": 557,
      "metadata": {
        "id": "coQDVt66hwUc"
      },
      "outputs": [],
      "source": [
        "import matplotlib.pyplot as plt"
      ]
    },
    {
      "cell_type": "code",
      "execution_count": 558,
      "metadata": {
        "colab": {
          "base_uri": "https://localhost:8080/"
        },
        "id": "m5I8855uhwUc",
        "outputId": "5c03f72f-56a8-42a5-846e-29698804777d"
      },
      "outputs": [
        {
          "output_type": "execute_result",
          "data": {
            "text/plain": [
              "44"
            ]
          },
          "metadata": {},
          "execution_count": 558
        }
      ],
      "source": [
        "len(df1)"
      ]
    },
    {
      "cell_type": "code",
      "execution_count": null,
      "metadata": {
        "id": "0E2Zj4qUhwUc"
      },
      "outputs": [],
      "source": []
    },
    {
      "cell_type": "code",
      "execution_count": 559,
      "metadata": {
        "colab": {
          "base_uri": "https://localhost:8080/",
          "height": 463
        },
        "id": "Gytvu2kGhwUc",
        "outputId": "a4d9a1e1-8d76-48e5-95c3-28d5096aeffb"
      },
      "outputs": [
        {
          "output_type": "execute_result",
          "data": {
            "text/plain": [
              "[<matplotlib.lines.Line2D at 0x7ae11d7fab00>]"
            ]
          },
          "metadata": {},
          "execution_count": 559
        },
        {
          "output_type": "display_data",
          "data": {
            "text/plain": [
              "<Figure size 640x480 with 1 Axes>"
            ],
            "image/png": "[encoded data removed]"
          },
          "metadata": {}
        }
      ],
      "source": [
        "plt.plot(day_new,scaler.inverse_transform(df1[43:]))\n",
        "plt.plot(day_pred,scaler.inverse_transform(lst_output))"
      ]
    },
    {
      "cell_type": "code",
      "execution_count": 560,
      "metadata": {
        "colab": {
          "base_uri": "https://localhost:8080/",
          "height": 448
        },
        "id": "0uroOr05hwUc",
        "outputId": "128593f9-e45f-44a8-913d-1b8256e80c5e"
      },
      "outputs": [
        {
          "output_type": "execute_result",
          "data": {
            "text/plain": [
              "[<matplotlib.lines.Line2D at 0x7ae11d79c7c0>]"
            ]
          },
          "metadata": {},
          "execution_count": 560
        },
        {
          "output_type": "display_data",
          "data": {
            "text/plain": [
              "<Figure size 640x480 with 1 Axes>"
            ],
            "image/png": "[encoded data removed]"
          },
          "metadata": {}
        }
      ],
      "source": [
        "df3=df1.tolist()\n",
        "df3.extend(lst_output)\n",
        "plt.plot(df3)"
      ]
    },
    {
      "cell_type": "code",
      "execution_count": 561,
      "metadata": {
        "id": "c6lzzEJXhwUc"
      },
      "outputs": [],
      "source": [
        "df3=scaler.inverse_transform(df3).tolist()"
      ]
    },
    {
      "cell_type": "code",
      "execution_count": 562,
      "metadata": {
        "colab": {
          "base_uri": "https://localhost:8080/",
          "height": 463
        },
        "id": "UkSlDhDjhwUc",
        "outputId": "787fe117-2f7c-454b-8574-320edfcc8dc7"
      },
      "outputs": [
        {
          "output_type": "execute_result",
          "data": {
            "text/plain": [
              "[<matplotlib.lines.Line2D at 0x7ae11d68aef0>]"
            ]
          },
          "metadata": {},
          "execution_count": 562
        },
        {
          "output_type": "display_data",
          "data": {
            "text/plain": [
              "<Figure size 640x480 with 1 Axes>"
            ],
            "image/png": "[encoded data removed]"
          },
          "metadata": {}
        }
      ],
      "source": [
        "plt.plot(df3)"
      ]
    },
    {
      "cell_type": "code",
      "execution_count": 563,
      "metadata": {
        "colab": {
          "base_uri": "https://localhost:8080/"
        },
        "id": "eB6kl-hMhwUc",
        "outputId": "d68c6861-34d1-42ea-8f75-4e1bb2d81bcc"
      },
      "outputs": [
        {
          "output_type": "stream",
          "name": "stdout",
          "text": [
            "[[2282000.0], [4228000.0], [5515000.0], [5442000.0], [4782000.0], [4265000.0], [5414000.0], [5302000.0], [9964000.0], [9536000.0], [11758000.0], [11844000.0], [10982000.0], [11234000.0], [6648000.0], [6585000.000000001], [8655000.0], [10801000.0], [12603000.0], [13202000.0], [14323000.0], [10550000.0], [14429999.999999998], [13756000.0], [13624000.0], [16689000.000000002], [16774000.0], [17870000.0], [18900000.0], [18476000.0], [18469000.0], [17558000.0], [20001303.0], [18710281.0], [21046680.0], [16686971.0], [22845144.0], [22264954.0], [24428349.0], [25693459.0], [26076085.0], [29146728.999999996], [29062581.0], [28957580.0], [28960242.751697656], [28962769.54412627], [28965168.23554456], [28967451.63605356], [28969616.54312801], [28971672.564343687]]\n"
          ]
        }
      ],
      "source": [
        "print(df3)"
      ]
    }
  ],
  "metadata": {
    "kernelspec": {
      "display_name": "Python 3",
      "language": "python",
      "name": "python3"
    },
    "language_info": {
      "codemirror_mode": {
        "name": "ipython",
        "version": 3
      },
      "file_extension": ".py",
      "mimetype": "text/x-python",
      "name": "python",
      "nbconvert_exporter": "python",
      "pygments_lexer": "ipython3",
      "version": "3.6.9"
    },
    "colab": {
      "provenance": [],
      "toc_visible": true
    }
  },
  "nbformat": 4,
  "nbformat_minor": 0
}